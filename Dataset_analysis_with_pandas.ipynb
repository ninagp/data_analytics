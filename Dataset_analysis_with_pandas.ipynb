{
 "cells": [
  {
   "cell_type": "code",
   "execution_count": 3,
   "metadata": {
    "_cell_guid": "b1076dfc-b9ad-4769-8c92-a6c4dae69d19",
    "_uuid": "8f2839f25d086af736a60e9eeb907d3b93b6e0e5",
    "colab": {},
    "colab_type": "code",
    "id": "U2D2gTdJVp90"
   },
   "outputs": [],
   "source": [
    "import numpy as np\n",
    "import pandas as pd\n",
    "import seaborn as sns\n",
    "import matplotlib.pyplot as plt\n",
    "from collections import Counter\n",
    "from IPython.display import display\n",
    "from functools import reduce\n",
    "from itertools import combinations\n",
    "from itertools import product"
   ]
  },
  {
   "cell_type": "code",
   "execution_count": 2,
   "metadata": {
    "_cell_guid": "79c7e3d0-c299-4dcb-8224-4455121ee9b0",
    "_uuid": "d629ff2d2480ee46fbb7e2d37f6b5fab8052498a",
    "colab": {},
    "colab_type": "code",
    "id": "oyGfxL3eVp9-",
    "scrolled": true
   },
   "outputs": [
    {
     "data": {
      "text/html": [
       "<div>\n",
       "<style scoped>\n",
       "    .dataframe tbody tr th:only-of-type {\n",
       "        vertical-align: middle;\n",
       "    }\n",
       "\n",
       "    .dataframe tbody tr th {\n",
       "        vertical-align: top;\n",
       "    }\n",
       "\n",
       "    .dataframe thead th {\n",
       "        text-align: right;\n",
       "    }\n",
       "</style>\n",
       "<table border=\"1\" class=\"dataframe\">\n",
       "  <thead>\n",
       "    <tr style=\"text-align: right;\">\n",
       "      <th></th>\n",
       "      <th>imdb_id</th>\n",
       "      <th>budget</th>\n",
       "      <th>revenue</th>\n",
       "      <th>original_title</th>\n",
       "      <th>cast</th>\n",
       "      <th>director</th>\n",
       "      <th>tagline</th>\n",
       "      <th>overview</th>\n",
       "      <th>runtime</th>\n",
       "      <th>genres</th>\n",
       "      <th>production_companies</th>\n",
       "      <th>release_date</th>\n",
       "      <th>vote_average</th>\n",
       "      <th>release_year</th>\n",
       "    </tr>\n",
       "  </thead>\n",
       "  <tbody>\n",
       "    <tr>\n",
       "      <th>878</th>\n",
       "      <td>tt0246460</td>\n",
       "      <td>140000000</td>\n",
       "      <td>431971116</td>\n",
       "      <td>Die Another Day</td>\n",
       "      <td>Pierce Brosnan|Halle Berry|Rosamund Pike|Rick ...</td>\n",
       "      <td>Lee Tamahori</td>\n",
       "      <td>Events don't get any bigger than...</td>\n",
       "      <td>The ever-daring James Bond taking on a North K...</td>\n",
       "      <td>133</td>\n",
       "      <td>Adventure|Action|Thriller</td>\n",
       "      <td>Eon Productions</td>\n",
       "      <td>11/17/2002</td>\n",
       "      <td>5.8</td>\n",
       "      <td>2002</td>\n",
       "    </tr>\n",
       "    <tr>\n",
       "      <th>1280</th>\n",
       "      <td>tt2005374</td>\n",
       "      <td>27220000</td>\n",
       "      <td>5496951</td>\n",
       "      <td>The Frozen Ground</td>\n",
       "      <td>Nicolas Cage|Vanessa Hudgens|John Cusack|Radha...</td>\n",
       "      <td>Scott Walker</td>\n",
       "      <td>The hunter becomes the hunted</td>\n",
       "      <td>An Alaska State Trooper partners with a young ...</td>\n",
       "      <td>105</td>\n",
       "      <td>Thriller|Crime</td>\n",
       "      <td>Grindstone Entertainment Group|Cheetah Vision|...</td>\n",
       "      <td>7/18/2013</td>\n",
       "      <td>6.2</td>\n",
       "      <td>2013</td>\n",
       "    </tr>\n",
       "    <tr>\n",
       "      <th>1717</th>\n",
       "      <td>tt0426931</td>\n",
       "      <td>25000000</td>\n",
       "      <td>66122026</td>\n",
       "      <td>August Rush</td>\n",
       "      <td>Freddie Highmore|Keri Russell|Jonathan Rhys Me...</td>\n",
       "      <td>Kirsten Sheridan</td>\n",
       "      <td>An incredible journey moving at the speed of s...</td>\n",
       "      <td>A drama with fairy tale elements, where an orp...</td>\n",
       "      <td>114</td>\n",
       "      <td>Drama</td>\n",
       "      <td>Warner Bros.|CJ Entertainment|Southpaw Enterta...</td>\n",
       "      <td>11/21/2007</td>\n",
       "      <td>6.9</td>\n",
       "      <td>2007</td>\n",
       "    </tr>\n",
       "    <tr>\n",
       "      <th>814</th>\n",
       "      <td>tt0999913</td>\n",
       "      <td>25000000</td>\n",
       "      <td>10324441</td>\n",
       "      <td>Straw Dogs</td>\n",
       "      <td>James Marsden|Kate Bosworth|Alexander SkarsgÃ¥...</td>\n",
       "      <td>Rod Lurie</td>\n",
       "      <td>Everyone Has A Breaking Point</td>\n",
       "      <td>L.A. screenwriter David Sumner relocates with ...</td>\n",
       "      <td>110</td>\n",
       "      <td>Thriller</td>\n",
       "      <td>Battleplan Productions</td>\n",
       "      <td>9/16/2011</td>\n",
       "      <td>5.3</td>\n",
       "      <td>2011</td>\n",
       "    </tr>\n",
       "    <tr>\n",
       "      <th>1584</th>\n",
       "      <td>tt0362227</td>\n",
       "      <td>60000000</td>\n",
       "      <td>219417255</td>\n",
       "      <td>The Terminal</td>\n",
       "      <td>Tom Hanks|Catherine Zeta-Jones|Stanley Tucci|C...</td>\n",
       "      <td>Steven Spielberg</td>\n",
       "      <td>Life is waiting.</td>\n",
       "      <td>Viktor Navorski is a man without a country; hi...</td>\n",
       "      <td>128</td>\n",
       "      <td>Comedy|Drama</td>\n",
       "      <td>DreamWorks SKG|Amblin Entertainment|Parkes/Mac...</td>\n",
       "      <td>6/17/2004</td>\n",
       "      <td>7.0</td>\n",
       "      <td>2004</td>\n",
       "    </tr>\n",
       "  </tbody>\n",
       "</table>\n",
       "</div>"
      ],
      "text/plain": [
       "        imdb_id     budget    revenue     original_title  \\\n",
       "878   tt0246460  140000000  431971116    Die Another Day   \n",
       "1280  tt2005374   27220000    5496951  The Frozen Ground   \n",
       "1717  tt0426931   25000000   66122026        August Rush   \n",
       "814   tt0999913   25000000   10324441         Straw Dogs   \n",
       "1584  tt0362227   60000000  219417255       The Terminal   \n",
       "\n",
       "                                                   cast          director  \\\n",
       "878   Pierce Brosnan|Halle Berry|Rosamund Pike|Rick ...      Lee Tamahori   \n",
       "1280  Nicolas Cage|Vanessa Hudgens|John Cusack|Radha...      Scott Walker   \n",
       "1717  Freddie Highmore|Keri Russell|Jonathan Rhys Me...  Kirsten Sheridan   \n",
       "814   James Marsden|Kate Bosworth|Alexander SkarsgÃ¥...         Rod Lurie   \n",
       "1584  Tom Hanks|Catherine Zeta-Jones|Stanley Tucci|C...  Steven Spielberg   \n",
       "\n",
       "                                                tagline  \\\n",
       "878                 Events don't get any bigger than...   \n",
       "1280                      The hunter becomes the hunted   \n",
       "1717  An incredible journey moving at the speed of s...   \n",
       "814                       Everyone Has A Breaking Point   \n",
       "1584                                   Life is waiting.   \n",
       "\n",
       "                                               overview  runtime  \\\n",
       "878   The ever-daring James Bond taking on a North K...      133   \n",
       "1280  An Alaska State Trooper partners with a young ...      105   \n",
       "1717  A drama with fairy tale elements, where an orp...      114   \n",
       "814   L.A. screenwriter David Sumner relocates with ...      110   \n",
       "1584  Viktor Navorski is a man without a country; hi...      128   \n",
       "\n",
       "                         genres  \\\n",
       "878   Adventure|Action|Thriller   \n",
       "1280             Thriller|Crime   \n",
       "1717                      Drama   \n",
       "814                    Thriller   \n",
       "1584               Comedy|Drama   \n",
       "\n",
       "                                   production_companies release_date  \\\n",
       "878                                     Eon Productions   11/17/2002   \n",
       "1280  Grindstone Entertainment Group|Cheetah Vision|...    7/18/2013   \n",
       "1717  Warner Bros.|CJ Entertainment|Southpaw Enterta...   11/21/2007   \n",
       "814                              Battleplan Productions    9/16/2011   \n",
       "1584  DreamWorks SKG|Amblin Entertainment|Parkes/Mac...    6/17/2004   \n",
       "\n",
       "      vote_average  release_year  \n",
       "878            5.8          2002  \n",
       "1280           6.2          2013  \n",
       "1717           6.9          2007  \n",
       "814            5.3          2011  \n",
       "1584           7.0          2004  "
      ]
     },
     "execution_count": 2,
     "metadata": {},
     "output_type": "execute_result"
    }
   ],
   "source": [
    "import pandas as pd\n",
    "movies = pd.read_csv('movie_bd_v5.csv')\n",
    "movies.sample(5)"
   ]
  },
  {
   "cell_type": "code",
   "execution_count": 21,
   "metadata": {
    "colab": {},
    "colab_type": "code",
    "id": "jNb40DwKVp-H"
   },
   "outputs": [
    {
     "name": "stdout",
     "output_type": "stream",
     "text": [
      "{1: 'Pirates of the Caribbean: On Stranger Tides', 2: 'Gods and Generals', 3: 'Winnie the Pooh', 4: '110', 5: '107', 6: 'Avatar', 7: 'The Lone Ranger', 8: '1478', 9: 'The Dark Knight', 10: 'The lone ranger', 11: 'Drama', 12: 'Drama', 13: 'Robert Rodriguez', 14: 'Chris Hemsworth', 15: 'Matt Damon', 16: 'Action', 17: 'K-19: The Widowmaker', 18: '2015', 19: '2014', 20: 'September', 21: '450', 22: 'Peter Jackson', 23: 'Inside Out, The Dark Knight, 12 Years a Slave', 24: 'Daniel Radcliffe, Rupert Grint'}\n"
     ]
    }
   ],
   "source": [
    "movies[\"profitability\"] = movies[\"revenue\"] - movies[\"budget\"]\n",
    "\n",
    "answers = {}  # dictionary with answers to the questions\n",
    "answers.update({1: \"Pirates of the Caribbean: On Stranger Tides\",\n",
    "                2: 'Gods and Generals', 3: \"Winnie the Pooh\"})\n",
    "answers.update({4: '110', 5: '107', 6: 'Avatar', 7: \"The Lone Ranger\",\n",
    "                8: \"1478\", 9: \"The Dark Knight\", 10: \"The lone ranger\"})\n",
    "answers.update({11: 'Drama', 12: \"Drama\", 13: \"Robert Rodriguez\",\n",
    "                14: \"Chris Hemsworth\", 15: \"Matt Damon\"})\n",
    "answers.update({16: \"Action\", 17: \"K-19: The Widowmaker\",\n",
    "                18: \"2015\", 19: \"2014\", 20: \"September\", 21: \"450\"})\n",
    "answers.update(\n",
    "    {22: \"Peter Jackson\", 23: \"Inside Out, The Dark Knight, 12 Years a Slave\"})\n",
    "answers.update({24: \"Daniel Radcliffe, Rupert Grint\"})\n",
    "print(answers)"
   ]
  },
  {
   "cell_type": "markdown",
   "metadata": {
    "colab_type": "text",
    "id": "YxZaH-nPVp-L"
   },
   "source": [
    "# 1. Which movie has the biggest budget?"
   ]
  },
  {
   "cell_type": "code",
   "execution_count": 12,
   "metadata": {
    "colab": {},
    "colab_type": "code",
    "id": "uVnXAY5RVp-O"
   },
   "outputs": [],
   "source": [
    "# Adding answers to the dictionary:\n",
    "answers['1'] = \"Pirates of the Caribbean: On Stranger Tides\""
   ]
  },
  {
   "cell_type": "code",
   "execution_count": 15,
   "metadata": {
    "colab": {},
    "colab_type": "code",
    "id": "dZwb3m28Vp-S"
   },
   "outputs": [
    {
     "name": "stdout",
     "output_type": "stream",
     "text": [
      "723    Pirates of the Caribbean: On Stranger Tides\n",
      "Name: original_title, dtype: object\n"
     ]
    }
   ],
   "source": [
    "biggest = movies.original_title[movies.budget == movies.budget.max()]\n",
    "print(biggest)"
   ]
  },
  {
   "cell_type": "markdown",
   "metadata": {
    "colab_type": "text",
    "id": "FNRbbI3vVp-c"
   },
   "source": [
    "# 2. What movie is the longest (in minutes)?"
   ]
  },
  {
   "cell_type": "code",
   "execution_count": 0,
   "metadata": {
    "colab": {},
    "colab_type": "code",
    "id": "vHAoEXNTVp-d"
   },
   "outputs": [],
   "source": [
    "answers['2'] = \"Gods and Generals\" "
   ]
  },
  {
   "cell_type": "code",
   "execution_count": 21,
   "metadata": {
    "colab": {},
    "colab_type": "code",
    "id": "ot-VX2XrVp-g"
   },
   "outputs": [
    {
     "name": "stdout",
     "output_type": "stream",
     "text": [
      "1157    Gods and Generals\n",
      "Name: original_title, dtype: object\n"
     ]
    }
   ],
   "source": [
    "length = movies[movies.runtime == movies.runtime.max()].original_title\n",
    "print(length)"
   ]
  },
  {
   "cell_type": "markdown",
   "metadata": {
    "colab_type": "text",
    "id": "bapLlpW8Vp-k"
   },
   "source": [
    "# 3. What movie is the shortest (in minutes)?\n"
   ]
  },
  {
   "cell_type": "code",
   "execution_count": 0,
   "metadata": {
    "colab": {},
    "colab_type": "code",
    "id": "YBxaSHuAVp-l"
   },
   "outputs": [],
   "source": [
    "answers['3'] = \"Winnie the Pooh\" "
   ]
  },
  {
   "cell_type": "code",
   "execution_count": 22,
   "metadata": {},
   "outputs": [
    {
     "name": "stdout",
     "output_type": "stream",
     "text": [
      "768    Winnie the Pooh\n",
      "Name: original_title, dtype: object\n"
     ]
    }
   ],
   "source": [
    "shortest = movies[movies.runtime == movies.runtime.min()].original_title\n",
    "print(shortest)"
   ]
  },
  {
   "cell_type": "markdown",
   "metadata": {
    "colab_type": "text",
    "id": "TfQbxbfNVp-p"
   },
   "source": [
    "# 4. What is the mean movie length?\n"
   ]
  },
  {
   "cell_type": "code",
   "execution_count": 0,
   "metadata": {
    "colab": {},
    "colab_type": "code",
    "id": "5K6dKZYVVp-q"
   },
   "outputs": [],
   "source": [
    "answers['4'] = \"110\""
   ]
  },
  {
   "cell_type": "code",
   "execution_count": 29,
   "metadata": {},
   "outputs": [
    {
     "data": {
      "text/plain": [
       "110"
      ]
     },
     "metadata": {},
     "output_type": "display_data"
    }
   ],
   "source": [
    "average_length = movies[\"runtime\"].mean()\n",
    "display(round(average_length))"
   ]
  },
  {
   "cell_type": "markdown",
   "metadata": {
    "colab_type": "text",
    "id": "r5TvbnT_Vp-u"
   },
   "source": [
    "# 5. What is the median movie length? "
   ]
  },
  {
   "cell_type": "code",
   "execution_count": 0,
   "metadata": {
    "colab": {},
    "colab_type": "code",
    "id": "iBROplKnVp-v"
   },
   "outputs": [],
   "source": [
    "answers['5'] = \"107\""
   ]
  },
  {
   "cell_type": "code",
   "execution_count": 32,
   "metadata": {},
   "outputs": [
    {
     "data": {
      "text/plain": [
       "107"
      ]
     },
     "metadata": {},
     "output_type": "display_data"
    }
   ],
   "source": [
    "median_length = movies[\"runtime\"].median()\n",
    "display(round(median_length))"
   ]
  },
  {
   "cell_type": "markdown",
   "metadata": {
    "colab_type": "text",
    "id": "39P-deDSVp-y"
   },
   "source": [
    "# 6. What is the most profitable movie?\n",
    "####  (profit = revenue - budget) "
   ]
  },
  {
   "cell_type": "code",
   "execution_count": null,
   "metadata": {},
   "outputs": [],
   "source": [
    "answers['6'] = \"Avatar\" "
   ]
  },
  {
   "cell_type": "code",
   "execution_count": 12,
   "metadata": {
    "colab": {},
    "colab_type": "code",
    "id": "UYZh4T9WVp-y"
   },
   "outputs": [
    {
     "data": {
      "text/plain": [
       "239    Avatar\n",
       "Name: original_title, dtype: object"
      ]
     },
     "metadata": {},
     "output_type": "display_data"
    }
   ],
   "source": [
    "max_profit = movies[movies.profitability == movies.profitability.max()].original_title\n",
    "display(max_profit)"
   ]
  },
  {
   "cell_type": "markdown",
   "metadata": {
    "colab_type": "text",
    "id": "M99JmIX4Vp-2"
   },
   "source": [
    "# 7. What movie lost the most money? "
   ]
  },
  {
   "cell_type": "code",
   "execution_count": 0,
   "metadata": {
    "colab": {},
    "colab_type": "code",
    "id": "w-D2m4XPVp-3"
   },
   "outputs": [],
   "source": [
    "answers['7'] = \"The Lone Ranger\" "
   ]
  },
  {
   "cell_type": "code",
   "execution_count": 38,
   "metadata": {},
   "outputs": [
    {
     "data": {
      "text/plain": [
       "1245    The Lone Ranger\n",
       "Name: original_title, dtype: object"
      ]
     },
     "metadata": {},
     "output_type": "display_data"
    }
   ],
   "source": [
    "min_profit = movies[movies.profitability == movies.profitability.min()].original_title\n",
    "display(min_profit)"
   ]
  },
  {
   "cell_type": "markdown",
   "metadata": {
    "colab_type": "text",
    "id": "wEOM5ERVVp-6"
   },
   "source": [
    "# 8. How many movies were profitable?"
   ]
  },
  {
   "cell_type": "code",
   "execution_count": 0,
   "metadata": {
    "colab": {},
    "colab_type": "code",
    "id": "y00_7HD6Vp-7"
   },
   "outputs": [],
   "source": [
    "answers['8'] = \"1478\""
   ]
  },
  {
   "cell_type": "code",
   "execution_count": 40,
   "metadata": {},
   "outputs": [
    {
     "data": {
      "text/plain": [
       "1478"
      ]
     },
     "metadata": {},
     "output_type": "display_data"
    }
   ],
   "source": [
    "rev_more_budget = movies[movies.profitability > 0].original_title.count()\n",
    "display(rev_more_budget)"
   ]
  },
  {
   "cell_type": "markdown",
   "metadata": {
    "colab_type": "text",
    "id": "xhpspA9KVp_A"
   },
   "source": [
    "# 9. What movie was the most profitable in 2008?"
   ]
  },
  {
   "cell_type": "code",
   "execution_count": 0,
   "metadata": {
    "colab": {},
    "colab_type": "code",
    "id": "MoUyQr9RVp_B"
   },
   "outputs": [],
   "source": [
    "answers['9'] = \"The Dark Knight\""
   ]
  },
  {
   "cell_type": "code",
   "execution_count": 41,
   "metadata": {},
   "outputs": [
    {
     "data": {
      "text/plain": [
       "816921825"
      ]
     },
     "metadata": {},
     "output_type": "display_data"
    },
    {
     "data": {
      "text/plain": [
       "599    The Dark Knight\n",
       "Name: original_title, dtype: object"
      ]
     },
     "metadata": {},
     "output_type": "display_data"
    }
   ],
   "source": [
    "big_rev = movies[movies.release_year == 2008].profitability.max()\n",
    "movie_name = movies[movies.profitability == big_rev].original_title\n",
    "display(big_rev, movie_name)"
   ]
  },
  {
   "cell_type": "markdown",
   "metadata": {
    "colab_type": "text",
    "id": "Zi4hDKidVp_F"
   },
   "source": [
    "# 10. Among all the movies released in 2012 -2014 which movie lost the most money?\n"
   ]
  },
  {
   "cell_type": "code",
   "execution_count": 0,
   "metadata": {
    "colab": {},
    "colab_type": "code",
    "id": "XqyRmufJVp_F"
   },
   "outputs": [],
   "source": [
    "answers['10'] = \"The Lone Ranger\""
   ]
  },
  {
   "cell_type": "code",
   "execution_count": 42,
   "metadata": {},
   "outputs": [
    {
     "data": {
      "text/plain": [
       "-165710090"
      ]
     },
     "metadata": {},
     "output_type": "display_data"
    },
    {
     "data": {
      "text/plain": [
       "1245    The Lone Ranger\n",
       "Name: original_title, dtype: object"
      ]
     },
     "metadata": {},
     "output_type": "display_data"
    }
   ],
   "source": [
    "least_rev = movies[(movies.release_year > 2012) & (\n",
    "    movies.release_year < 2015)].profitability.min()\n",
    "movie_name = movies[movies.profitability == least_rev].original_title\n",
    "display(least_rev, movie_name)"
   ]
  },
  {
   "cell_type": "markdown",
   "metadata": {
    "colab_type": "text",
    "id": "EA7Sa9dkVp_I"
   },
   "source": [
    "# 11. What film genre has the largest presence in the dataset?"
   ]
  },
  {
   "cell_type": "code",
   "execution_count": null,
   "metadata": {},
   "outputs": [],
   "source": [
    "answers['11'] = \"Drama\" "
   ]
  },
  {
   "cell_type": "code",
   "execution_count": 8,
   "metadata": {
    "colab": {},
    "colab_type": "code",
    "id": "zsJAwJ8QVp_J"
   },
   "outputs": [
    {
     "data": {
      "text/plain": [
       "('Drama', 782)"
      ]
     },
     "metadata": {},
     "output_type": "display_data"
    }
   ],
   "source": [
    "from collections import Counter\n",
    "most_genre = list(movies[\"genres\"])\n",
    "str_genre = \"|\".join(most_genre)\n",
    "arr = str_genre.split(\"|\")\n",
    "popular = Counter(arr)\n",
    "display(popular.most_common()[0])"
   ]
  },
  {
   "cell_type": "code",
   "execution_count": 0,
   "metadata": {
    "colab": {},
    "colab_type": "code",
    "id": "otO3SbrSVp_N"
   },
   "outputs": [],
   "source": [
    "answers['12'] = \"Drama\" "
   ]
  },
  {
   "cell_type": "markdown",
   "metadata": {
    "colab_type": "text",
    "id": "T9_bPWpkVp_Q"
   },
   "source": [
    "# 12. What genre movies become profitable most often? "
   ]
  },
  {
   "cell_type": "code",
   "execution_count": 13,
   "metadata": {
    "colab": {},
    "colab_type": "code",
    "id": "Tmt8MaK1Vp_R"
   },
   "outputs": [
    {
     "data": {
      "text/plain": [
       "('Drama', 560)"
      ]
     },
     "metadata": {},
     "output_type": "display_data"
    }
   ],
   "source": [
    "prof_genre = movies[movies.profitability > 0]\n",
    "movies_genre = list(prof_genre[\"genres\"])\n",
    "str_genre = \"|\".join(movies_genre)\n",
    "arr = str_genre.split(\"|\")\n",
    "popular = Counter(arr)\n",
    "display(popular.most_common()[0])"
   ]
  },
  {
   "cell_type": "markdown",
   "metadata": {
    "colab_type": "text",
    "id": "PsYC9FgRVp_a"
   },
   "source": [
    "# 13. What director has directed the most amount of action movies?"
   ]
  },
  {
   "cell_type": "code",
   "execution_count": 0,
   "metadata": {
    "colab": {},
    "colab_type": "code",
    "id": "wd2M-wHeVp_b"
   },
   "outputs": [],
   "source": [
    "answers['13'] = \"Robert Rodriguez\""
   ]
  },
  {
   "cell_type": "code",
   "execution_count": 14,
   "metadata": {},
   "outputs": [
    {
     "data": {
      "text/plain": [
       "('Robert Rodriguez', 7)"
      ]
     },
     "metadata": {},
     "output_type": "display_data"
    }
   ],
   "source": [
    "small_df = movies[movies.genres.str.match(\"Action\", na=False)]\n",
    "action_director = list(small_df[\"director\"])\n",
    "str_director = \"|\".join(action_director)\n",
    "arr = str_director.split(\"|\")\n",
    "popular = Counter(arr)\n",
    "display(popular.most_common()[0])"
   ]
  },
  {
   "cell_type": "markdown",
   "metadata": {
    "colab_type": "text",
    "id": "PQ0KciD7Vp_f"
   },
   "source": [
    "# 14. What actor played in the most profitable movies in 2012?  "
   ]
  },
  {
   "cell_type": "code",
   "execution_count": null,
   "metadata": {},
   "outputs": [],
   "source": [
    "answers['14'] = \"Chris Hemsworth\" "
   ]
  },
  {
   "cell_type": "code",
   "execution_count": 15,
   "metadata": {
    "colab": {},
    "colab_type": "code",
    "id": "aga62oeKVp_g"
   },
   "outputs": [
    {
     "data": {
      "text/plain": [
       "('Chris Hemsworth', 2)"
      ]
     },
     "metadata": {},
     "output_type": "display_data"
    }
   ],
   "source": [
    "movies_sorted = movies.sort_values('revenue', ascending=False)\n",
    "movies_2012 = movies_sorted[movies_sorted.release_year == 2012].head(\n",
    "    111//4)  # 25% of the most profitable movies\n",
    "movies_cast = list(movies_2012[\"cast\"])\n",
    "str_cast = \"|\".join(movies_cast)\n",
    "arr = str_cast.split(\"|\")\n",
    "popular = Counter(arr)\n",
    "display(popular.most_common()[0])"
   ]
  },
  {
   "cell_type": "markdown",
   "metadata": {
    "colab_type": "text",
    "id": "mWHyyL7QVp_j"
   },
   "source": [
    "# 15. What actor played in the most amount of high budget movies? "
   ]
  },
  {
   "cell_type": "code",
   "execution_count": 0,
   "metadata": {
    "colab": {},
    "colab_type": "code",
    "id": "qQtmHKTFVp_k"
   },
   "outputs": [],
   "source": [
    "answers['15'] = \"Matt Damon\""
   ]
  },
  {
   "cell_type": "code",
   "execution_count": 16,
   "metadata": {},
   "outputs": [
    {
     "data": {
      "text/plain": [
       "('Matt Damon', 18)"
      ]
     },
     "metadata": {},
     "output_type": "display_data"
    }
   ],
   "source": [
    "movies_budget = movies[movies.budget > movies.budget.mean()]\n",
    "movies_cast = list(movies_budget[\"cast\"])\n",
    "str_cast = \"|\".join(movies_cast)\n",
    "arr = str_cast.split(\"|\")\n",
    "popular = Counter(arr)\n",
    "display(popular.most_common()[0])"
   ]
  },
  {
   "cell_type": "markdown",
   "metadata": {
    "colab_type": "text",
    "id": "NIh6AaW5Vp_n"
   },
   "source": [
    "# 16. What genre movies did Nicolas Cage played in the most?"
   ]
  },
  {
   "cell_type": "code",
   "execution_count": null,
   "metadata": {},
   "outputs": [],
   "source": [
    "answers['16'] = \"Action\" "
   ]
  },
  {
   "cell_type": "code",
   "execution_count": 17,
   "metadata": {
    "colab": {},
    "colab_type": "code",
    "id": "H74SJDIBVp_n"
   },
   "outputs": [
    {
     "data": {
      "text/plain": [
       "('Action', 16)"
      ]
     },
     "metadata": {},
     "output_type": "display_data"
    }
   ],
   "source": [
    "small_df = movies[movies.cast.str.match(\"Nicolas Cage\", na=False)]\n",
    "movies_genre = list(small_df[\"genres\"])\n",
    "str_genre = \"|\".join(movies_genre)\n",
    "arr = str_genre.split(\"|\")\n",
    "popular = Counter(arr)\n",
    "display(popular.most_common()[0])"
   ]
  },
  {
   "cell_type": "markdown",
   "metadata": {
    "colab_type": "text",
    "id": "RqOmPRfWVp_q"
   },
   "source": [
    "# 17. What Paramount Pictures' movie lost the most money?"
   ]
  },
  {
   "cell_type": "code",
   "execution_count": 0,
   "metadata": {
    "colab": {},
    "colab_type": "code",
    "id": "9E_B0Y96Vp_r"
   },
   "outputs": [],
   "source": [
    "answers['17'] = \"K-19: The Widowmaker\" "
   ]
  },
  {
   "cell_type": "code",
   "execution_count": 73,
   "metadata": {},
   "outputs": [
    {
     "data": {
      "text/plain": [
       "925    K-19: The Widowmaker\n",
       "Name: original_title, dtype: object"
      ]
     },
     "metadata": {},
     "output_type": "display_data"
    }
   ],
   "source": [
    "pp_df = movies[movies.production_companies.str.match(\n",
    "    \"Paramount Pictures\", na=False)]\n",
    "pp_df1 = pp_df.sort_values('profitability', ascending=True)\n",
    "display(pp_df[pp_df.profitability == pp_df.profitability.min()].original_title)"
   ]
  },
  {
   "cell_type": "markdown",
   "metadata": {
    "colab_type": "text",
    "id": "vS8Ur6ddVp_u"
   },
   "source": [
    "# 18. What year was the most profitable overall? "
   ]
  },
  {
   "cell_type": "code",
   "execution_count": null,
   "metadata": {},
   "outputs": [],
   "source": [
    "answers['18'] = \"2015\" "
   ]
  },
  {
   "cell_type": "code",
   "execution_count": 75,
   "metadata": {
    "colab": {},
    "colab_type": "code",
    "id": "Dnbt4GdIVp_v"
   },
   "outputs": [
    {
     "data": {
      "text/plain": [
       "release_year\n",
       "2015    25449202382\n",
       "Name: revenue, dtype: int64"
      ]
     },
     "metadata": {},
     "output_type": "display_data"
    }
   ],
   "source": [
    "big_money = movies.groupby(['release_year'])[\n",
    "    'revenue'].sum().sort_values(ascending=False).head(1)\n",
    "display(big_money)"
   ]
  },
  {
   "cell_type": "markdown",
   "metadata": {
    "colab_type": "text",
    "id": "JAzJh4QAVp_z"
   },
   "source": [
    "# 19. What year was the most profitable for Warner Bros?"
   ]
  },
  {
   "cell_type": "code",
   "execution_count": null,
   "metadata": {},
   "outputs": [],
   "source": [
    "answers['19'] = \"2014\""
   ]
  },
  {
   "cell_type": "code",
   "execution_count": 78,
   "metadata": {
    "colab": {},
    "colab_type": "code",
    "id": "wgVu02DEVp_0"
   },
   "outputs": [
    {
     "data": {
      "text/plain": [
       "release_year\n",
       "2014    2295464519\n",
       "Name: profitability, dtype: int64"
      ]
     },
     "metadata": {},
     "output_type": "display_data"
    }
   ],
   "source": [
    "small_df = movies[movies.production_companies.str.contains('Warner Bros')]\n",
    "wb_money = small_df.groupby(['release_year'])['profitability'].sum().sort_values(ascending = False).head(1)\n",
    "display(wb_money)"
   ]
  },
  {
   "cell_type": "markdown",
   "metadata": {
    "colab_type": "text",
    "id": "8Im1S2HRVp_4"
   },
   "source": [
    "# 20. In what month were the most movies released?"
   ]
  },
  {
   "cell_type": "code",
   "execution_count": null,
   "metadata": {},
   "outputs": [],
   "source": [
    "answers['20'] = \"September\" "
   ]
  },
  {
   "cell_type": "code",
   "execution_count": 18,
   "metadata": {
    "colab": {},
    "colab_type": "code",
    "id": "lev6TH7gVp_4"
   },
   "outputs": [
    {
     "data": {
      "text/plain": [
       "release_date\n",
       "9    227\n",
       "Name: original_title, dtype: int64"
      ]
     },
     "metadata": {},
     "output_type": "display_data"
    },
    {
     "data": {
      "text/plain": [
       "pandas.core.series.Series"
      ]
     },
     "metadata": {},
     "output_type": "display_data"
    }
   ],
   "source": [
    "movies['release_date'] = pd.to_datetime(movies['release_date'])\n",
    "month = movies.groupby(movies['release_date'].dt.month)[\n",
    "    \"original_title\"].count().sort_values(ascending=False).head(1)\n",
    "display(month, type(month))"
   ]
  },
  {
   "cell_type": "markdown",
   "metadata": {
    "colab_type": "text",
    "id": "uAJsZ_NeVp_7"
   },
   "source": [
    "# 21. What is the total amount of movies that were released in summer?"
   ]
  },
  {
   "cell_type": "code",
   "execution_count": null,
   "metadata": {},
   "outputs": [],
   "source": [
    "answers['21'] = \"450\""
   ]
  },
  {
   "cell_type": "code",
   "execution_count": 80,
   "metadata": {
    "colab": {},
    "colab_type": "code",
    "id": "Aa-hEREoVp_8"
   },
   "outputs": [
    {
     "data": {
      "text/plain": [
       "450"
      ]
     },
     "metadata": {},
     "output_type": "display_data"
    }
   ],
   "source": [
    "movies['release_date'] = pd.to_datetime(movies['release_date'])\n",
    "month = movies.groupby(movies['release_date'].dt.month)[\n",
    "    \"original_title\"].count()\n",
    "month = dict(month)\n",
    "start = 6\n",
    "end = 9\n",
    "display(sum(month[i] for i in range(start, end) if i in month))"
   ]
  },
  {
   "cell_type": "markdown",
   "metadata": {
    "colab_type": "text",
    "id": "G94ppOY1VqAA"
   },
   "source": [
    "# 22. For what director winter is the most productive time of the year?"
   ]
  },
  {
   "cell_type": "code",
   "execution_count": null,
   "metadata": {},
   "outputs": [],
   "source": [
    "answers['22'] = \"Peter Jackson\" # +"
   ]
  },
  {
   "cell_type": "code",
   "execution_count": 19,
   "metadata": {
    "colab": {},
    "colab_type": "code",
    "id": "RhNTsamuVqAB"
   },
   "outputs": [
    {
     "data": {
      "text/plain": [
       "('Peter Jackson', 7)"
      ]
     },
     "metadata": {},
     "output_type": "display_data"
    }
   ],
   "source": [
    "movies['release_date'] = pd.to_datetime(movies['release_date'])\n",
    "movies['month'] = movies['release_date'].dt.month\n",
    "\n",
    "\n",
    "def season(x):\n",
    "    if x == 1 or x == 12 or x == 2:\n",
    "        return \"winter\"\n",
    "    if x == 3 or x == 4 or x == 5:\n",
    "        return \"spring\"\n",
    "    if x == 6 or x == 7 or x == 8:\n",
    "        return \"summer\"\n",
    "    else:\n",
    "        return \"fall\"\n",
    "\n",
    "\n",
    "movies[\"season\"] = movies.month.apply(season)\n",
    "\n",
    "movies_winter = movies[movies.season == \"winter\"]\n",
    "movies_director = list(movies_winter[\"director\"])\n",
    "str_director = \"|\".join(movies_director)\n",
    "arr = str_director.split(\"|\")\n",
    "popular = Counter(arr)\n",
    "display(popular.most_common()[0])"
   ]
  },
  {
   "cell_type": "markdown",
   "metadata": {
    "colab_type": "text",
    "id": "FJ1AFt90VqAP"
   },
   "source": [
    "# 23. What movies are included in the top 1% based on rating?  "
   ]
  },
  {
   "cell_type": "code",
   "execution_count": null,
   "metadata": {},
   "outputs": [],
   "source": [
    "answers['23'] =\"Inside Out, The Dark Knight, 12 Years a Slave\""
   ]
  },
  {
   "cell_type": "code",
   "execution_count": 5,
   "metadata": {
    "colab": {},
    "colab_type": "code",
    "id": "8qmJVq4CVqAQ"
   },
   "outputs": [
    {
     "data": {
      "text/plain": [
       "9                                          Inside Out\n",
       "34                                               Room\n",
       "118                                      Interstellar\n",
       "119                           Guardians of the Galaxy\n",
       "125                                The Imitation Game\n",
       "128                                         Gone Girl\n",
       "138                          The Grand Budapest Hotel\n",
       "370                                         Inception\n",
       "599                                   The Dark Knight\n",
       "872                                       The Pianist\n",
       "1081    The Lord of the Rings: The Return of the King\n",
       "1183                          The Wolf of Wall Street\n",
       "1191                                 12 Years a Slave\n",
       "1800                                          Memento\n",
       "Name: original_title, dtype: object"
      ]
     },
     "execution_count": 5,
     "metadata": {},
     "output_type": "execute_result"
    }
   ],
   "source": [
    "movies[movies['vote_average']>movies.quantile(0.99, numeric_only=True)['vote_average']]['original_title']"
   ]
  },
  {
   "cell_type": "markdown",
   "metadata": {
    "colab_type": "text",
    "id": "MdXsUXbCVqAV"
   },
   "source": [
    "# 24. What actors appear in movies together most often?"
   ]
  },
  {
   "cell_type": "code",
   "execution_count": null,
   "metadata": {},
   "outputs": [],
   "source": [
    "answers['24'] =\"Daniel Radcliffe, Rupert Grint\""
   ]
  },
  {
   "cell_type": "code",
   "execution_count": 20,
   "metadata": {},
   "outputs": [
    {
     "data": {
      "text/plain": [
       "(('Daniel Radcliffe', ' Rupert Grint'), 8)"
      ]
     },
     "metadata": {},
     "output_type": "display_data"
    }
   ],
   "source": [
    "from itertools import combinations\n",
    "\n",
    "\n",
    "def func(x):\n",
    "    if \"|\" in x:\n",
    "        return x.replace(\"|\", \", \").split(\",\")\n",
    "    else:\n",
    "        return x\n",
    "\n",
    "\n",
    "actors = movies.cast.apply(func)\n",
    "actors = list(actors)\n",
    "arr = []\n",
    "for el in actors:\n",
    "    el = list(combinations(el, 2))\n",
    "    arr.append(el)\n",
    "arr2 = []\n",
    "for el in arr:\n",
    "    for j in el:\n",
    "        arr2.append(j)\n",
    "popular = Counter(arr2)\n",
    "display(popular.most_common()[0])"
   ]
  },
  {
   "cell_type": "markdown",
   "metadata": {
    "colab_type": "text",
    "id": "U0nONFnGVqAX"
   },
   "source": [
    "# Answers"
   ]
  },
  {
   "cell_type": "code",
   "execution_count": 24,
   "metadata": {
    "colab": {},
    "colab_type": "code",
    "id": "IfcaRO9-VqAX",
    "outputId": "0f132912-32bb-4196-c98c-abfbc4ad5a5f"
   },
   "outputs": [
    {
     "data": {
      "text/plain": [
       "{1: 'Pirates of the Caribbean: On Stranger Tides',\n",
       " 2: 'Gods and Generals',\n",
       " 3: 'Winnie the Pooh',\n",
       " 4: '110',\n",
       " 5: '107',\n",
       " 6: 'Avatar',\n",
       " 7: 'The Lone Ranger',\n",
       " 8: '1478',\n",
       " 9: 'The Dark Knight',\n",
       " 10: 'The lone ranger',\n",
       " 11: 'Drama',\n",
       " 12: 'Drama',\n",
       " 13: 'Robert Rodriguez',\n",
       " 14: 'Chris Hemsworth',\n",
       " 15: 'Matt Damon',\n",
       " 16: 'Action',\n",
       " 17: 'K-19: The Widowmaker',\n",
       " 18: '2015',\n",
       " 19: '2014',\n",
       " 20: 'September',\n",
       " 21: '450',\n",
       " 22: 'Peter Jackson',\n",
       " 23: 'Inside Out, The Dark Knight, 12 Years a Slave',\n",
       " 24: 'Daniel Radcliffe, Rupert Grint'}"
      ]
     },
     "execution_count": 24,
     "metadata": {},
     "output_type": "execute_result"
    }
   ],
   "source": [
    "answers"
   ]
  },
  {
   "cell_type": "code",
   "execution_count": 0,
   "metadata": {
    "colab": {},
    "colab_type": "code",
    "id": "uCfuTkRbVqAg"
   },
   "outputs": [],
   "source": []
  },
  {
   "cell_type": "code",
   "execution_count": 0,
   "metadata": {
    "colab": {},
    "colab_type": "code",
    "id": "Vwx3NrkSVqAl"
   },
   "outputs": [],
   "source": []
  }
 ],
 "metadata": {
  "colab": {
   "name": "Copy of [SF-DST] Movies IMBD v4.1 TEMPLATE.ipynb",
   "provenance": []
  },
  "kernelspec": {
   "display_name": "Python 3",
   "language": "python",
   "name": "python3"
  },
  "language_info": {
   "codemirror_mode": {
    "name": "ipython",
    "version": 3
   },
   "file_extension": ".py",
   "mimetype": "text/x-python",
   "name": "python",
   "nbconvert_exporter": "python",
   "pygments_lexer": "ipython3",
   "version": "3.8.5"
  }
 },
 "nbformat": 4,
 "nbformat_minor": 1
}
